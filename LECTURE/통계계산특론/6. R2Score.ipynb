{
 "cells": [
  {
   "cell_type": "code",
   "execution_count": null,
   "metadata": {},
   "outputs": [
    {
     "name": "stdout",
     "output_type": "stream",
     "text": [
      "Best Parameters: {'learning_rate': 0.1, 'max_depth': 8, 'n_estimators': 100, 'num_leaves': 100}\n",
      "Best Score: 0.18443351961547397\n"
     ]
    }
   ],
   "source": [
    "import numpy as np\n",
    "from sklearn.model_selection import TimeSeriesSplit, GridSearchCV\n",
    "from sklearn.metrics import r2_score, make_scorer\n",
    "import lightgbm as lgb\n",
    "import pandas as pd\n",
    "\n",
    "\n",
    "# Y data\n",
    "firm=pd.read_csv('C:/Users/DaBin/Desktop/대학원/2024-2/통계계산특론/PROJECT/data/DATA/firm_500.csv')\n",
    "y=firm[['ret','year']]\n",
    "\n",
    "\n",
    "# X train + X val : 1997 ~ 2016\n",
    "\n",
    "X_data = pd.read_csv('C:/Users/DaBin/Desktop/대학원/2024-2/통계계산특론/PROJECT/data/DATA/PCA10F_UA10E.csv')\n",
    "X_data = X_data[(X_data['year'] >= 1997) & (X_data['year'] <= 2016)].drop(columns=['year', 'month'])\n",
    "y_data =y[(y['year'] >= 1997) & (y['year'] <= 2016)]['ret']\n",
    "\n",
    "\n",
    "# 하이퍼파라미터 그리드 정의\n",
    "param_grid = {\n",
    "    'n_estimators': [100,200],\n",
    "    'max_depth': [4, 8],\n",
    "    'learning_rate': [0.01, 0.1],\n",
    "    'num_leaves': [50,100],       #트리의 최대 노드 갯수 : 2^(max_depth) 보다 작거나 같은 값\n",
    "}\n",
    "\n",
    "# TimeSeriesSplit 정의\n",
    "tscv = TimeSeriesSplit(n_splits=5)\n",
    "\n",
    "#모델 정의 : LGBM\n",
    "model = lgb.LGBMRegressor(random_state = 42,verbose = -1)\n",
    "\n",
    "# Adjusted R-squared 계산 함수\n",
    "def adjusted_r2_score(y_true, y_pred, n, p):\n",
    "    r2 = r2_score(y_true, y_pred)\n",
    "    return 1 - (1 - r2) * (n - 1) / (n - p - 1)\n",
    "\n",
    "\n",
    "# Custom Scorer 생성 함수\n",
    "def adj_r2(estimator, X, y_true):\n",
    "    n, p = X.shape\n",
    "    pred = estimator.predict(X)\n",
    "    return 1 - ((1 - r2_score(y_true, pred)) * (n - 1))/(n-p-1)\n",
    "\n",
    "# Scorer를 make_scorer로 생성\n",
    "scorer = make_scorer(adj_r2, greater_is_better=True)\n",
    "\n",
    "\n",
    "# GridSearchCV 실행\n",
    "grid_search = GridSearchCV(\n",
    "    estimator=model,\n",
    "    param_grid=param_grid,\n",
    "    cv=tscv,              # TimeSeriesSplit 사용\n",
    "    scoring = {\n",
    "       \"adj R2\": adj_r2  \n",
    "    },\n",
    "    refit=\"adj R2\"\n",
    ")\n",
    "\n",
    "\n",
    "grid_search.fit(X_data, y_data)\n",
    "\n",
    "# 최적의 하이퍼파라미터 출력\n",
    "print(\"Best Parameters:\", grid_search.best_params_)\n",
    "print(\"Best Score:\", grid_search.best_score_)"
   ]
  }
 ],
 "metadata": {
  "kernelspec": {
   "display_name": "Python 3",
   "language": "python",
   "name": "python3"
  },
  "language_info": {
   "codemirror_mode": {
    "name": "ipython",
    "version": 3
   },
   "file_extension": ".py",
   "mimetype": "text/x-python",
   "name": "python",
   "nbconvert_exporter": "python",
   "pygments_lexer": "ipython3",
   "version": "3.13.0"
  }
 },
 "nbformat": 4,
 "nbformat_minor": 2
}
